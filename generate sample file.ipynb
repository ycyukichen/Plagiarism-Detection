{
 "cells": [
  {
   "cell_type": "code",
   "execution_count": 1,
   "metadata": {},
   "outputs": [
    {
     "name": "stdout",
     "output_type": "stream",
     "text": [
      "Files generated successfully:\n",
      "doc1.txt\n",
      "doc2.txt\n",
      "doc3.txt\n",
      "doc4.txt\n"
     ]
    }
   ],
   "source": [
    "# Sample content for the files\n",
    "content_1 = \"\"\"Artificial intelligence is a field of computer science focused on creating intelligent machines.\n",
    "The technology has advanced significantly over recent years and is widely used in various applications.\"\"\"\n",
    "\n",
    "content_2 = \"\"\"Artificial intelligence is an area in computer science that focuses on making intelligent systems.\n",
    "This field has grown rapidly, with advancements in technology allowing AI to be used across many industries.\"\"\"\n",
    "\n",
    "content_3 = \"\"\"Machine learning, a subset of artificial intelligence, enables systems to learn from data and improve.\n",
    "It is extensively used for predictive analytics and has seen tremendous growth in real-world applications.\"\"\"\n",
    "\n",
    "content_4 = \"\"\"Machine learning and artificial intelligence are revolutionary fields in computer science.\n",
    "With rapid technological progress, these fields are transforming industries by enabling data-driven decision making.\"\"\"\n",
    "\n",
    "# Create the files\n",
    "file_names = ['doc1.txt', 'doc2.txt', 'doc3.txt', 'doc4.txt']\n",
    "contents = [content_1, content_2, content_3, content_4]\n",
    "\n",
    "# Write content to each file\n",
    "for file_name, content in zip(file_names, contents):\n",
    "    with open(file_name, 'w') as f:\n",
    "        f.write(content)\n",
    "\n",
    "print(\"Files generated successfully:\")\n",
    "for file_name in file_names:\n",
    "    print(file_name)"
   ]
  }
 ],
 "metadata": {
  "kernelspec": {
   "display_name": "Python 3",
   "language": "python",
   "name": "python3"
  },
  "language_info": {
   "codemirror_mode": {
    "name": "ipython",
    "version": 3
   },
   "file_extension": ".py",
   "mimetype": "text/x-python",
   "name": "python",
   "nbconvert_exporter": "python",
   "pygments_lexer": "ipython3",
   "version": "3.11.4"
  }
 },
 "nbformat": 4,
 "nbformat_minor": 2
}
